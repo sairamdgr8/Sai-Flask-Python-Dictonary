{
 "cells": [
  {
   "cell_type": "code",
   "execution_count": 1,
   "metadata": {},
   "outputs": [
    {
     "name": "stderr",
     "output_type": "stream",
     "text": [
      "[INFO   ] [Logger      ] Record log in C:\\Users\\SAI\\.kivy\\logs\\kivy_21-03-12_5.txt\n",
      "[INFO   ] [deps        ] Successfully imported \"kivy_deps.angle\" 0.3.0\n",
      "[INFO   ] [deps        ] Successfully imported \"kivy_deps.glew\" 0.3.0\n",
      "[INFO   ] [deps        ] Successfully imported \"kivy_deps.sdl2\" 0.3.1\n",
      "[INFO   ] [Kivy        ] v2.0.0\n",
      "[INFO   ] [Kivy        ] Installed at \"C:\\Users\\SAI\\Anaconda3\\lib\\site-packages\\kivy\\__init__.py\"\n",
      "[INFO   ] [Python      ] v3.7.4 (default, Aug  9 2019, 18:34:13) [MSC v.1915 64 bit (AMD64)]\n",
      "[INFO   ] [Python      ] Interpreter at \"C:\\Users\\SAI\\Anaconda3\\python.exe\"\n",
      "[INFO   ] [Logger      ] Purge log fired. Analysing...\n",
      "[INFO   ] [Logger      ] Purge finished!\n",
      "[INFO   ] [Factory     ] 186 symbols loaded\n",
      "[INFO   ] [Image       ] Providers: img_tex, img_dds, img_sdl2, img_pil (img_ffpyplayer ignored)\n",
      "[INFO   ] [Window      ] Provider: sdl2\n",
      "[INFO   ] [GL          ] Using the \"OpenGL\" graphics system\n",
      "[INFO   ] [GL          ] GLEW initialization succeeded\n",
      "[INFO   ] [GL          ] Backend used <glew>\n",
      "[INFO   ] [GL          ] OpenGL version <b'4.2.0 - Build 10.18.10.3496'>\n",
      "[INFO   ] [GL          ] OpenGL vendor <b'Intel'>\n",
      "[INFO   ] [GL          ] OpenGL renderer <b'Intel(R) HD Graphics 4400'>\n",
      "[INFO   ] [GL          ] OpenGL parsed version: 4, 2\n",
      "[INFO   ] [GL          ] Shading version <b'4.20 - Build 10.18.10.3496'>\n",
      "[INFO   ] [GL          ] Texture max size <16384>\n",
      "[INFO   ] [GL          ] Texture max units <32>\n",
      "[INFO   ] [Window      ] auto add sdl2 input provider\n",
      "[INFO   ] [Window      ] virtual keyboard not allowed, single mode, not docked\n",
      "[INFO   ] [Text        ] Provider: sdl2\n",
      "[INFO   ] [Base        ] Start application main loop\n",
      "[INFO   ] [GL          ] NPOT texture support is available\n",
      "[INFO   ] [Base        ] Leaving application in progress...\n"
     ]
    }
   ],
   "source": [
    "# import kivy module \n",
    "import kivy \n",
    "\n",
    "# this restrict the kivy version i.e \n",
    "# below this kivy version you cannot \n",
    "# use the app or software \n",
    "kivy.require(\"1.9.1\") \n",
    "\n",
    "# base Class of your App inherits from the App class. \n",
    "# app:always refers to the instance of your application \n",
    "from kivy.app import App \n",
    "\n",
    "# BoxLayout arranges children \n",
    "# in a vertical or horizontal box. \n",
    "from kivy.uix.boxlayout import BoxLayout \n",
    "\n",
    "# class in which we are defining action on click \n",
    "class RootWidget(BoxLayout):\n",
    "    def btn_clk(self):\n",
    "        self.lbl.text = \"You have been pressed\"\n",
    "\n",
    "\n",
    "# creating action class and calling \n",
    "# Rootwidget by returning it \n",
    "class ActionApp(App):\n",
    "    def build(self):\n",
    "        return RootWidget() \n",
    "\n",
    "# creating the myApp root for ActionApp() class \n",
    "myApp = ActionApp() \n",
    "\n",
    "# run function runs the whole program \n",
    "# i.e run() method which calls the \n",
    "# target function passed to the constructor. \n",
    "myApp.run() \n",
    "\n",
    "\n"
   ]
  },
  {
   "cell_type": "code",
   "execution_count": null,
   "metadata": {},
   "outputs": [],
   "source": []
  }
 ],
 "metadata": {
  "kernelspec": {
   "display_name": "Python 3",
   "language": "python",
   "name": "python3"
  },
  "language_info": {
   "codemirror_mode": {
    "name": "ipython",
    "version": 3
   },
   "file_extension": ".py",
   "mimetype": "text/x-python",
   "name": "python",
   "nbconvert_exporter": "python",
   "pygments_lexer": "ipython3",
   "version": "3.7.4"
  }
 },
 "nbformat": 4,
 "nbformat_minor": 4
}
